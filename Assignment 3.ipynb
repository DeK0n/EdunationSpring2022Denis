{
 "cells": [
  {
   "cell_type": "markdown",
   "id": "2575fcf2",
   "metadata": {},
   "source": [
    "# Exercise 3\n",
    "## Denis Kononov 23/03/2022"
   ]
  },
  {
   "cell_type": "markdown",
   "id": "af7557c2",
   "metadata": {},
   "source": [
    "### 1"
   ]
  },
  {
   "cell_type": "code",
   "execution_count": 1,
   "id": "1d6989a2",
   "metadata": {},
   "outputs": [
    {
     "data": {
      "text/plain": [
       "30"
      ]
     },
     "execution_count": 1,
     "metadata": {},
     "output_type": "execute_result"
    }
   ],
   "source": [
    "x = lambda num1,num2: num1*num2\n",
    "x(5,6)"
   ]
  },
  {
   "cell_type": "markdown",
   "id": "ead60aee",
   "metadata": {},
   "source": [
    "### 2"
   ]
  },
  {
   "cell_type": "code",
   "execution_count": 4,
   "id": "5b6718ca",
   "metadata": {},
   "outputs": [
    {
     "data": {
      "text/plain": [
       "314.1592653589793"
      ]
     },
     "execution_count": 4,
     "metadata": {},
     "output_type": "execute_result"
    }
   ],
   "source": [
    "import math\n",
    "def CircleArea(r): \n",
    "    return math.pi*r*r\n",
    "CircleArea(10)"
   ]
  },
  {
   "cell_type": "markdown",
   "id": "fd3da300",
   "metadata": {},
   "source": [
    "### 3"
   ]
  },
  {
   "cell_type": "code",
   "execution_count": 11,
   "id": "e95a5e1d",
   "metadata": {},
   "outputs": [
    {
     "data": {
      "text/plain": [
       "0.4"
      ]
     },
     "execution_count": 11,
     "metadata": {},
     "output_type": "execute_result"
    }
   ],
   "source": [
    "def SimpleCalculator(num1,num2,act):\n",
    "    if act == \"a\":\n",
    "        return num1+num2\n",
    "    elif act == \"s\":\n",
    "        return num1-num2\n",
    "    elif act == \"m\":\n",
    "        return num1*num2\n",
    "    elif act == \"d\":\n",
    "        return num1/num2\n",
    "    else:\n",
    "        print(\"input error\")\n",
    "        \n",
    "SimpleCalculator(2,5,\"d\")\n",
    "\n"
   ]
  },
  {
   "cell_type": "markdown",
   "id": "4f5857d1",
   "metadata": {},
   "source": [
    "### 4"
   ]
  },
  {
   "cell_type": "code",
   "execution_count": 48,
   "id": "073ca3e9",
   "metadata": {},
   "outputs": [
    {
     "data": {
      "text/plain": [
       "50"
      ]
     },
     "execution_count": 48,
     "metadata": {},
     "output_type": "execute_result"
    }
   ],
   "source": [
    "class Rectangle:\n",
    "    def __init__(self,l,w):\n",
    "        self.l = l\n",
    "        self.w = w\n",
    "    def area(self):\n",
    "        return self.l*self.w\n",
    "r = Rectangle(5,10)\n",
    "r.area()"
   ]
  },
  {
   "cell_type": "markdown",
   "id": "ab43e7ea",
   "metadata": {},
   "source": [
    "### 5"
   ]
  },
  {
   "cell_type": "code",
   "execution_count": 108,
   "id": "2890243f",
   "metadata": {},
   "outputs": [
    {
     "name": "stdout",
     "output_type": "stream",
     "text": [
      "The area is: \n",
      "25\n",
      "This is a: square\n"
     ]
    }
   ],
   "source": [
    "class Shape:\n",
    "    def __init__(self,length,name):\n",
    "        self.length = length\n",
    "        self.name = name\n",
    "    def area(self):\n",
    "        return \"0\"\n",
    "class Square(Shape):\n",
    "    def __init__(self,length,name):\n",
    "        Shape.__init__(self,length,name)\n",
    "    def area(self):\n",
    "        print(\"The area is: \")\n",
    "        return self.length*self.length\n",
    "    def describe(self):\n",
    "        x=str(\"This is a: \"+self.name)\n",
    "        return x\n",
    "s = Square(5,\"square\")\n",
    "print(s.area())\n",
    "print(s.describe())"
   ]
  },
  {
   "cell_type": "code",
   "execution_count": 1,
   "id": "0988533c",
   "metadata": {},
   "outputs": [
    {
     "name": "stdout",
     "output_type": "stream",
     "text": [
      "120\n"
     ]
    }
   ],
   "source": [
    "import math\n",
    "print(math.factorial(5))"
   ]
  },
  {
   "cell_type": "code",
   "execution_count": null,
   "id": "f36e4394",
   "metadata": {},
   "outputs": [],
   "source": []
  }
 ],
 "metadata": {
  "kernelspec": {
   "display_name": "Python 3 (ipykernel)",
   "language": "python",
   "name": "python3"
  },
  "language_info": {
   "codemirror_mode": {
    "name": "ipython",
    "version": 3
   },
   "file_extension": ".py",
   "mimetype": "text/x-python",
   "name": "python",
   "nbconvert_exporter": "python",
   "pygments_lexer": "ipython3",
   "version": "3.9.7"
  }
 },
 "nbformat": 4,
 "nbformat_minor": 5
}
